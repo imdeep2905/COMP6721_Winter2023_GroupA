{
 "cells": [
  {
   "cell_type": "code",
   "execution_count": 12,
   "metadata": {},
   "outputs": [],
   "source": [
    "from pathlib import Path\n",
    "\n",
    "PROCESSED_DATASET_PATH_MNETV1_TRAIN = Path(\"../../../dataset/processed/train\")\n",
    "PROCESSED_DATASET_PATH_MNETV1_TEST = Path(\"../../../dataset/processed/test\")\n",
    "PROCESSED_DATASET_PATH_MNETV1_VAL = Path(\"../../../dataset/processed/val\")"
   ]
  },
  {
   "cell_type": "code",
   "execution_count": 13,
   "metadata": {},
   "outputs": [
    {
     "name": "stdout",
     "output_type": "stream",
     "text": [
      "{'antelope': 836, 'cow': 1070, 'deer': 1075, 'elephant': 830, 'giraffe': 961, 'horse': 1316, 'lion': 815, 'rabbit': 870, 'sheep': 1136, 'squirrel': 960, 'zebra': 936} {'antelope': 106, 'cow': 135, 'deer': 135, 'elephant': 105, 'giraffe': 121, 'horse': 165, 'lion': 103, 'rabbit': 110, 'sheep': 142, 'squirrel': 120, 'zebra': 117} {'antelope': 104, 'cow': 133, 'deer': 134, 'elephant': 103, 'giraffe': 120, 'horse': 164, 'lion': 101, 'rabbit': 108, 'sheep': 142, 'squirrel': 120, 'zebra': 117}\n"
     ]
    }
   ],
   "source": [
    "import os\n",
    "\n",
    "train = {}\n",
    "test = {}\n",
    "val = {}\n",
    "\n",
    "\n",
    "for class_ in os.listdir(PROCESSED_DATASET_PATH_MNETV1_TRAIN):\n",
    "    train[class_] = len([x for x in os.listdir(f\"{PROCESSED_DATASET_PATH_MNETV1_TRAIN}/{class_}\") if x.endswith(\".jpg\")])\n",
    "\n",
    "\n",
    "for class_ in os.listdir(PROCESSED_DATASET_PATH_MNETV1_TEST):\n",
    "    test[class_] = len([x for x in os.listdir(f\"{PROCESSED_DATASET_PATH_MNETV1_TEST}/{class_}\") if x.endswith(\".jpg\")])\n",
    "\n",
    "for class_ in os.listdir(PROCESSED_DATASET_PATH_MNETV1_VAL):\n",
    "    val[class_] = len([x for x in os.listdir(f\"{PROCESSED_DATASET_PATH_MNETV1_VAL}/{class_}\") if x.endswith(\".jpg\")])\n",
    "\n",
    "print(train, test, val)"
   ]
  },
  {
   "cell_type": "code",
   "execution_count": 17,
   "metadata": {},
   "outputs": [
    {
     "name": "stdout",
     "output_type": "stream",
     "text": [
      "{'y': array([1046, 1338, 1344, 1038, 1202, 1645, 1019, 1088, 1420, 1200, 1170])} ['antelope', 'cow', 'deer', 'elephant', 'giraffe', 'horse', 'lion', 'rabbit', 'sheep', 'squirrel', 'zebra']\n"
     ]
    }
   ],
   "source": [
    "import numpy as np\n",
    "data = {\"y\": []}\n",
    "classes = []\n",
    "for key in train.keys():\n",
    "    data[\"y\"].append(train[key] + val[key] + test[key])\n",
    "    classes.append(key)\n",
    "\n",
    "for k, v in data.items():\n",
    "    data[k] = np.array(v)\n",
    "print(data, classes)"
   ]
  },
  {
   "cell_type": "code",
   "execution_count": 18,
   "metadata": {},
   "outputs": [
    {
     "data": {
      "image/png": "[encoded data removed]",
      "text/plain": [
       "<Figure size 432x288 with 1 Axes>"
      ]
     },
     "metadata": {
      "needs_background": "light"
     },
     "output_type": "display_data"
    }
   ],
   "source": [
    "import numpy as np\n",
    "import matplotlib.pyplot as plt\n",
    "\n",
    "width = 0.5\n",
    "\n",
    "fig, ax = plt.subplots()\n",
    "bottom = np.zeros(11)\n",
    "\n",
    "for k, v in data.items():\n",
    "    p = ax.bar(classes, v, width, label=k, bottom=bottom)\n",
    "    bottom += v\n",
    "\n",
    "ax.set_title(\"Distribution of images per class.\")\n",
    "# ax.legend(loc=\"upper right\")\n",
    "plt.xticks(rotation=90)\n",
    "plt.show()"
   ]
  }
 ],
 "metadata": {
  "kernelspec": {
   "display_name": "Python 3",
   "language": "python",
   "name": "python3"
  },
  "language_info": {
   "codemirror_mode": {
    "name": "ipython",
    "version": 3
   },
   "file_extension": ".py",
   "mimetype": "text/x-python",
   "name": "python",
   "nbconvert_exporter": "python",
   "pygments_lexer": "ipython3",
   "version": "3.8.5"
  },
  "orig_nbformat": 4
 },
 "nbformat": 4,
 "nbformat_minor": 2
}
